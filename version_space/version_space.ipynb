{
 "cells": [
  {
   "cell_type": "code",
   "execution_count": 18,
   "id": "7dc9d278-8d35-4f12-be74-6ea416af7401",
   "metadata": {},
   "outputs": [],
   "source": [
    "import pandas as pd"
   ]
  },
  {
   "cell_type": "code",
   "execution_count": 19,
   "id": "9b764087-5a03-43ae-a849-7b7e04a06bf3",
   "metadata": {},
   "outputs": [
    {
     "name": "stdout",
     "output_type": "stream",
     "text": [
      "\u001b[31mProject_CE.docx\u001b[m\u001b[m     \u001b[31mTDCE.csv\u001b[m\u001b[m            version_space.ipynb\n"
     ]
    }
   ],
   "source": [
    "!ls"
   ]
  },
  {
   "cell_type": "code",
   "execution_count": 20,
   "id": "dba5598a-8d2e-4184-8a66-686202e1842f",
   "metadata": {},
   "outputs": [],
   "source": [
    "df = pd.read_csv(\"TDCE.csv\")"
   ]
  },
  {
   "cell_type": "code",
   "execution_count": 21,
   "id": "ee9f6824-f6f1-4f3e-9b49-31bdcf2975cc",
   "metadata": {},
   "outputs": [
    {
     "data": {
      "text/html": [
       "<div>\n",
       "<style scoped>\n",
       "    .dataframe tbody tr th:only-of-type {\n",
       "        vertical-align: middle;\n",
       "    }\n",
       "\n",
       "    .dataframe tbody tr th {\n",
       "        vertical-align: top;\n",
       "    }\n",
       "\n",
       "    .dataframe thead th {\n",
       "        text-align: right;\n",
       "    }\n",
       "</style>\n",
       "<table border=\"1\" class=\"dataframe\">\n",
       "  <thead>\n",
       "    <tr style=\"text-align: right;\">\n",
       "      <th></th>\n",
       "      <th>Sky</th>\n",
       "      <th>AirTemp</th>\n",
       "      <th>Humidity</th>\n",
       "      <th>Wind</th>\n",
       "      <th>Water</th>\n",
       "      <th>Forecast</th>\n",
       "      <th>class</th>\n",
       "    </tr>\n",
       "  </thead>\n",
       "  <tbody>\n",
       "    <tr>\n",
       "      <th>0</th>\n",
       "      <td>Rainy</td>\n",
       "      <td>Cold</td>\n",
       "      <td>Normal</td>\n",
       "      <td>Weak</td>\n",
       "      <td>Cool</td>\n",
       "      <td>Same</td>\n",
       "      <td>N</td>\n",
       "    </tr>\n",
       "    <tr>\n",
       "      <th>1</th>\n",
       "      <td>Rainy</td>\n",
       "      <td>Cold</td>\n",
       "      <td>Normal</td>\n",
       "      <td>Weak</td>\n",
       "      <td>Warm</td>\n",
       "      <td>Same</td>\n",
       "      <td>N</td>\n",
       "    </tr>\n",
       "    <tr>\n",
       "      <th>2</th>\n",
       "      <td>Sunny</td>\n",
       "      <td>Warm</td>\n",
       "      <td>Normal</td>\n",
       "      <td>Weak</td>\n",
       "      <td>Warm</td>\n",
       "      <td>Same</td>\n",
       "      <td>Y</td>\n",
       "    </tr>\n",
       "    <tr>\n",
       "      <th>3</th>\n",
       "      <td>Sunny</td>\n",
       "      <td>Warm</td>\n",
       "      <td>Normal</td>\n",
       "      <td>Weak</td>\n",
       "      <td>Warm</td>\n",
       "      <td>Same</td>\n",
       "      <td>Y</td>\n",
       "    </tr>\n",
       "    <tr>\n",
       "      <th>4</th>\n",
       "      <td>Rainy</td>\n",
       "      <td>Cold</td>\n",
       "      <td>High</td>\n",
       "      <td>Weak</td>\n",
       "      <td>Cool</td>\n",
       "      <td>Change</td>\n",
       "      <td>N</td>\n",
       "    </tr>\n",
       "  </tbody>\n",
       "</table>\n",
       "</div>"
      ],
      "text/plain": [
       "     Sky AirTemp Humidity  Wind Water Forecast class\n",
       "0  Rainy    Cold   Normal  Weak  Cool     Same     N\n",
       "1  Rainy    Cold   Normal  Weak  Warm     Same     N\n",
       "2  Sunny    Warm   Normal  Weak  Warm     Same     Y\n",
       "3  Sunny    Warm   Normal  Weak  Warm     Same     Y\n",
       "4  Rainy    Cold     High  Weak  Cool   Change     N"
      ]
     },
     "execution_count": 21,
     "metadata": {},
     "output_type": "execute_result"
    }
   ],
   "source": [
    "df.head()"
   ]
  },
  {
   "cell_type": "code",
   "execution_count": 22,
   "id": "746bf0a3-e01a-4eb4-a4a1-e9d449645ef0",
   "metadata": {},
   "outputs": [
    {
     "data": {
      "text/plain": [
       "(1000, 7)"
      ]
     },
     "execution_count": 22,
     "metadata": {},
     "output_type": "execute_result"
    }
   ],
   "source": [
    "df.shape"
   ]
  },
  {
   "cell_type": "code",
   "execution_count": 23,
   "id": "b0e643cb-497c-4e32-9a3f-2de3e8b11439",
   "metadata": {},
   "outputs": [
    {
     "name": "stdout",
     "output_type": "stream",
     "text": [
      "Sky -> ['Rainy' 'Sunny' 'Cloudy'] -> 3\n",
      "AirTemp -> ['Cold' 'Warm'] -> 2\n",
      "Humidity -> ['Normal' 'High'] -> 2\n",
      "Wind -> ['Weak' 'Strong'] -> 2\n",
      "Water -> ['Cool' 'Warm'] -> 2\n",
      "Forecast -> ['Same' 'Change'] -> 2\n",
      "class -> ['N' 'Y'] -> 2\n"
     ]
    }
   ],
   "source": [
    "for col in df.columns:\n",
    "    print(f\"{col} -> {df[col].unique()} -> {df[col].nunique()}\")"
   ]
  },
  {
   "cell_type": "code",
   "execution_count": 24,
   "id": "3c2a6c7f-7240-4cb7-b285-f23e755e35e2",
   "metadata": {},
   "outputs": [
    {
     "name": "stdout",
     "output_type": "stream",
     "text": [
      "Sky -> ['Rainy' 'Sunny' 'Cloudy'] -> 3\n",
      "AirTemp -> ['Cold' 'Warm'] -> 2\n",
      "Humidity -> ['Normal' 'High'] -> 2\n",
      "Wind -> ['Weak' 'Strong'] -> 2\n",
      "Water -> ['Cool' 'Warm'] -> 2\n",
      "Forecast -> ['Same' 'Change'] -> 2\n",
      "class -> [0 1] -> 2\n"
     ]
    }
   ],
   "source": [
    "df[\"class\"] = df[\"class\"].replace({\"Y\": 1, \"N\": 0})\n",
    "for col in df.columns:\n",
    "    print(f\"{col} -> {df[col].unique()} -> {df[col].nunique()}\")"
   ]
  },
  {
   "cell_type": "code",
   "execution_count": 25,
   "id": "f2fd648d-a908-4371-a372-2baa82a4fd40",
   "metadata": {},
   "outputs": [],
   "source": [
    "from __future__ import annotations\n",
    "\n",
    "class WhatHappenedError(Exception):\n",
    "    pass\n",
    "\n",
    "class Hypothesis(list):\n",
    "    def is_consistent_with(self, d: pd.Series) -> bool:\n",
    "        if len(d) != len(self):\n",
    "            raise LenMismatchError(len(self), len(d))\n",
    "            \n",
    "        for (_h, _d) in zip(self, d):\n",
    "            if not is_more_general_than_or_equal(_h, _d):\n",
    "                return False\n",
    "\n",
    "        return True\n",
    "\n",
    "    def predict(self, d: pd.Series) -> bool:\n",
    "        return self.is_consistent_with(d)\n",
    "\n",
    "    def is_more_general_than(self, h2: Hypothesis) -> bool:\n",
    "        if len(h2) != len(self):\n",
    "            raise LenMismatchError(len(self), len(h2))\n",
    "\n",
    "        for _h1, _h2 in zip(self, h2):\n",
    "            if not is_more_general_than(_h1, _h2):\n",
    "                return False\n",
    "\n",
    "        return True\n",
    "\n",
    "    def is_more_specific_than(self, h2: Hypothesis) -> bool:\n",
    "        if len(d) != len(self):\n",
    "            raise LenMismatchError(len(self), len(d))\n",
    "\n",
    "        for _h1, _h2 in zip(self, h2):\n",
    "            if is_more_general_or_equal(_h1, _h2):\n",
    "                return False\n",
    "\n",
    "        return True\n",
    "\n",
    "def is_more_general_than_or_equal(_h1, _h2) -> bool:\n",
    "    if _h1 == ANY:\n",
    "        return True\n",
    "        \n",
    "    if _h1 == _h2:\n",
    "        return True\n",
    "\n",
    "    return False\n",
    "\n",
    "def is_more_general_than(_h1, _h2) -> bool:\n",
    "    if _h2 == NULL:\n",
    "        if _h1 != NULL:\n",
    "            return True\n",
    "        return False\n",
    "\n",
    "    if _h2 == ANY:\n",
    "        return False\n",
    "\n",
    "    if _h1 == _h2:\n",
    "        return False\n",
    "\n",
    "    raise WhatHappenedError\n",
    "    \n",
    "class InvalidClassError(Exception):\n",
    "    pass\n",
    "\n",
    "NULL = \"0\"\n",
    "ANY = \"?\""
   ]
  },
  {
   "cell_type": "code",
   "execution_count": 26,
   "id": "c82d1764-82c2-4d04-b0bd-d6d1ccbc3487",
   "metadata": {},
   "outputs": [
    {
     "data": {
      "text/plain": [
       "False"
      ]
     },
     "execution_count": 26,
     "metadata": {},
     "output_type": "execute_result"
    }
   ],
   "source": [
    "h = Hypothesis([\"b\", \"b\", ANY])\n",
    "d = pd.Series([\"a\", \"b\", \"c\"])\n",
    "h.predict(d)"
   ]
  },
  {
   "cell_type": "markdown",
   "id": "bf14cbf7-23d8-4a75-9b93-9f40328bead4",
   "metadata": {},
   "source": [
    "<hr>"
   ]
  },
  {
   "cell_type": "markdown",
   "id": "2a5b8939-bbf0-4f89-bdbb-87e64ad26452",
   "metadata": {},
   "source": [
    "<b>Candidate Elimination Algorithm:</b>\n",
    "\n",
    "\n",
    "- Initialize $G$ to the set of maximally general hypotheses in H\n",
    "- Initialize $S$ to the set of maximally specific hypothesis in H\n",
    "For each training example $d$, do:\n",
    "    - If $d$ is a positive example:\n",
    "        - Remove from $G$ any hypothesis inconsistent with $d$\n",
    "        - For each hypothesis $s$ in $S$ that is not consistent with $d$:\n",
    "            - Remove $s$ from $S$\n",
    "            - Add to $S$ all minimal generalizations $h$ of $s$ such that: $h$ is consistent with $d$, and some member of $G$ is more general than $h$\n",
    "            - Remove from $S$ any hypothesis that is more general than another hypothesis in $S$\n",
    "    - If $d$ is a negative example:\n",
    "        - Remove from $S$ any hypothesis inconsistent with $d$\n",
    "        - For each hypothesis $g$ in $G$ that is not consistent with $d$:\n",
    "            - Remove $g$ from $G$\n",
    "            - Add to $G$ all minimal specializations $h$ of $g$ such that: $h$ is consistent with $d$, and some member of $S$ is more specific than $h$\n",
    "            - Remove from $G$ any hypothesis that is less general than another hypothesis in $G$"
   ]
  },
  {
   "cell_type": "code",
   "execution_count": 27,
   "id": "d6a3d83e-e9fd-491a-9886-bd783d0befa6",
   "metadata": {},
   "outputs": [
    {
     "name": "stdout",
     "output_type": "stream",
     "text": [
      "initial G: [['?', '?', '?', '?', '?', '?']]\n",
      "initial S: [['0', '0', '0', '0', '0', '0']]\n",
      "handling negative...\n",
      "\n",
      "G in 1 iterations: [['?', '?', '?', '?', '?', '?']]\n",
      "S in 1 iterations: []\n",
      "\n",
      "final G: [['?', '?', '?', '?', '?', '?']]\n",
      "final S: []\n"
     ]
    }
   ],
   "source": [
    "class CandidateElimination:\n",
    "    def __init__(self) -> None:\n",
    "        pass   \n",
    "\n",
    "    def fit(self, D: pd.DataFrame, Y: pd.Series, pos: int = 1, neg: int = 0) -> None:\n",
    "        self.D = D\n",
    "        self.Y = Y\n",
    "        self.POS = pos\n",
    "        self.NEG = neg\n",
    "        self.G: List[Hypothesis] = [Hypothesis([ANY for _ in self.D.columns])]\n",
    "        self.S: List[Hypothesis] = [Hypothesis([NULL for _ in self.D.columns])]\n",
    "\n",
    "        print(\"initial G:\", self.G)\n",
    "        print(\"initial S:\", self.S)\n",
    "        \n",
    "        for (i, d), y in zip(self.D.iterrows(), self.Y):\n",
    "            if y == self.POS:\n",
    "                self.handle_positive(d)\n",
    "            elif y == self.NEG:\n",
    "                self.handle_negative(d)\n",
    "            else:\n",
    "                raise InvalidClassError\n",
    "\n",
    "            print()\n",
    "            print(f\"G in {i+1} iterations:\", self.G)\n",
    "            print(f\"S in {i+1} iterations:\", self.S)\n",
    "            print()\n",
    "\n",
    "    def handle_positive(self, d: pd.Series):\n",
    "        print(\"handling positive...\")\n",
    "        # remove inconsistent hypos in G\n",
    "        for g in self.G:\n",
    "            if not g.is_consistent_with(d):\n",
    "                self.G.remove(g)\n",
    "\n",
    "        # generalize S\n",
    "        for s in self.S:\n",
    "            if not s.is_consistent_with(d):\n",
    "                # TODO: add all generalizations\n",
    "                generalized_s = genenalize(s)\n",
    "                \n",
    "                has_more_general_in_G = false\n",
    "                for g in self.G:\n",
    "                    if g.is_more_general_than(s):\n",
    "                        has_more_general_in_G = true\n",
    "                        break\n",
    "    \n",
    "                if generalized_s.is_consistent_with(d) and \\\n",
    "                    has_more_general_in_G:\n",
    "                    self.S.remove(s)\n",
    "                    self.S.append(generalized_s)\n",
    "\n",
    "        # remove more generals in S\n",
    "        purged_S: List[Hypothesis] = []\n",
    "        for i in range(len(self.S)):\n",
    "            ok = True\n",
    "            for j in range(len(self.S)):\n",
    "                if i == j:\n",
    "                    continue\n",
    "\n",
    "                if self.S[i].is_more_general_than(self.S[j]):\n",
    "                    ok = False\n",
    "                    break\n",
    "\n",
    "            if ok:\n",
    "               purged_S.append(self.S[i]) \n",
    "\n",
    "        self.S = purged_S\n",
    "\n",
    "        \n",
    "    def handle_negative(self, d: pd.Series):\n",
    "        print(\"handling negative...\")\n",
    "        # remove inconsistent hypos in S\n",
    "        for s in self.S:\n",
    "            if not s.is_consistent_with(d):\n",
    "                self.S.remove(s)\n",
    "\n",
    "        # specialize G\n",
    "        for g in self.G:\n",
    "            if not g.is_consistent_with(d):\n",
    "                # TODO: add all specializations\n",
    "                specialized_g = specialize(g)\n",
    "\n",
    "                has_more_specific_in_S = false\n",
    "                for s in self.S:\n",
    "                    if s.is_more_specific_than(g):\n",
    "                        has_more_specific_in_S = true\n",
    "                        break\n",
    "\n",
    "                if specialized_g.is_consistent_with(d) and \\\n",
    "                    has_more_specific_in_S:\n",
    "                    self.G.remove(g)\n",
    "                    self.G.append(specialized_g)\n",
    "\n",
    "        # remove more specials in G\n",
    "        purged_G: List[Hypothesis] = []\n",
    "        for i in range(len(self.G)):\n",
    "            ok = True\n",
    "            for j in range(len(self.G)):\n",
    "                if i == j:\n",
    "                    continue\n",
    "\n",
    "                if self.G[i].is_more_specific_than(self.G[j]):\n",
    "                    ok = False\n",
    "                    break\n",
    "\n",
    "            if ok:\n",
    "                purged_G.append(self.G[i])\n",
    "\n",
    "        self.G = purged_G\n",
    "                \n",
    "def generalize(h: Hypothesis) -> Hypothesis:\n",
    "    return h\n",
    "\n",
    "\n",
    "ce = CandidateElimination()\n",
    "X = df.drop(\"class\", axis=1)\n",
    "Y = df[\"class\"]\n",
    "\n",
    "ce.fit(X.head(1), Y, 1, 0)\n",
    "print(\"final G:\", ce.G)\n",
    "print(\"final S:\", ce.S)"
   ]
  },
  {
   "cell_type": "markdown",
   "id": "4dc37fc6-2280-4daf-b8b7-7ced8e683a5f",
   "metadata": {},
   "source": [
    "<hr>"
   ]
  },
  {
   "cell_type": "markdown",
   "id": "455b1dea-be28-49bc-9d62-8ec26323db86",
   "metadata": {},
   "source": [
    "<b>List-Then-Eliminate</b>\n",
    "\n",
    "\n",
    "- $VersionSpace$ $\\rightarrow$ a list containing every hypothesis in $H$\n",
    "- For each training example $<x, c(x)>$:\n",
    "    - remove from $VersionSpace$ any hypothesis $h$ for which $h(x) \\neq c(x)$"
   ]
  },
  {
   "cell_type": "code",
   "execution_count": 28,
   "id": "bdcf3441-a8f4-4b2a-878b-d88fb2d76410",
   "metadata": {},
   "outputs": [
    {
     "name": "stdout",
     "output_type": "stream",
     "text": [
      "starting with 973 hypotheses...\n",
      "final version space:\n",
      "['?', 'Warm', '?', '?', '?', '?']\n",
      "['?', 'Warm', '?', 'Weak', '?', '?']\n",
      "['Sunny', '?', 'Normal', '?', '?', '?']\n",
      "['?', 'Warm', '?', '?', 'Warm', '?']\n",
      "['Sunny', 'Warm', '?', '?', '?', '?']\n",
      "['?', 'Warm', 'Normal', '?', 'Warm', '?']\n",
      "['Sunny', 'Warm', 'Normal', 'Weak', '?', '?']\n",
      "['?', 'Warm', 'Normal', '?', '?', '?']\n",
      "['?', 'Warm', '?', 'Weak', 'Warm', '?']\n",
      "['?', 'Warm', 'Normal', 'Weak', '?', '?']\n"
     ]
    }
   ],
   "source": [
    "from itertools import product\n",
    "\n",
    "class ListThenEliminate:\n",
    "    def __init__(self) -> None:\n",
    "        pass\n",
    "\n",
    "    def fit(self, D: pd.DataFrame, Y: pd.Series, pos: int = 1, neg: int = 0) -> None:\n",
    "        self.D = D\n",
    "        self.Y = Y\n",
    "        self.POS = pos\n",
    "        self.NEG = neg\n",
    "        self.VS = calculate_entire_version_space(self.D)\n",
    "\n",
    "        print(f\"starting with {len(self.VS)} hypotheses...\")\n",
    "\n",
    "        idx = 1\n",
    "        for i, d in self.D.iterrows():\n",
    "            c_x = Y[i]\n",
    "            for h in self.VS:\n",
    "                h_x = h.predict(d)\n",
    "                if c_x != h_x:\n",
    "                    self.VS.remove(h)\n",
    "                    idx += 1\n",
    "    \n",
    "def calculate_entire_version_space(D: pd.DataFrame) -> List[Hypothesis]:\n",
    "    vs: List[Hypothesis] = [Hypothesis([NULL for _ in D.columns])]\n",
    "    column_values = [set(D[column].tolist() + [ANY]) for column in D.columns]\n",
    "    for h in list(set(product(*column_values))):\n",
    "        vs.append(Hypothesis(h))\n",
    "        \n",
    "    return vs\n",
    "\n",
    "lte = ListThenEliminate()\n",
    "\n",
    "X = df.drop(\"class\", axis=1)\n",
    "Y = df[\"class\"]\n",
    "lte.fit(X, Y)\n",
    "\n",
    "print(\"final version space:\")\n",
    "for v in lte.VS:\n",
    "    print(v)"
   ]
  }
 ],
 "metadata": {
  "kernelspec": {
   "display_name": "Python 3 (ipykernel)",
   "language": "python",
   "name": "python3"
  },
  "language_info": {
   "codemirror_mode": {
    "name": "ipython",
    "version": 3
   },
   "file_extension": ".py",
   "mimetype": "text/x-python",
   "name": "python",
   "nbconvert_exporter": "python",
   "pygments_lexer": "ipython3",
   "version": "3.11.6"
  }
 },
 "nbformat": 4,
 "nbformat_minor": 5
}
