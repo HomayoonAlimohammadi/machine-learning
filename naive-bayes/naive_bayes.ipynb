{
 "cells": [
  {
   "cell_type": "markdown",
   "id": "c471a8c8-43f6-4e0c-8246-c339d532a96a",
   "metadata": {},
   "source": [
    "# Naive Bayes Classifier\n",
    "- Homayoon Alimohammadi - 40208964 - Machine Learning - Dr. Saeedi"
   ]
  },
  {
   "cell_type": "markdown",
   "id": "e2d05f78-4001-4cba-a901-52e329362f2d",
   "metadata": {},
   "source": [
    "## Extract Words"
   ]
  },
  {
   "cell_type": "code",
   "execution_count": 1,
   "id": "589dd228-2775-454c-8b24-815535abe5b1",
   "metadata": {},
   "outputs": [
    {
     "data": {
      "text/plain": [
       "['from', 'samhalperincccbbsuceng', 'dx', 'mhz', 'in']"
      ]
     },
     "execution_count": 1,
     "metadata": {},
     "output_type": "execute_result"
    }
   ],
   "source": [
    "from nltk import SnowballStemmer, PorterStemmer\n",
    "import re\n",
    "from glob import glob\n",
    "\n",
    "def extract_words_in_dir(dir, stemmer=None, remove_special=True, msg_only=True, to_lower=True):\n",
    "    with open(dir, errors=\"ignore\") as f:\n",
    "        return extract_words(f.readlines(), stemmer=stemmer, \n",
    "                             remove_special=remove_special, msg_only=msg_only, to_lower=to_lower)\n",
    "\n",
    "def extract_words(lines, stemmer=None, remove_special=True, msg_only=True, to_lower=True):\n",
    "    if isinstance(lines, str):\n",
    "        lines = lines.split(\"\\n\")\n",
    "\n",
    "    if msg_only:\n",
    "        for i, l in enumerate(lines):\n",
    "            if l.startswith(\"Lines: \"):\n",
    "                lines = lines[i+1:]\n",
    "                break\n",
    "                \n",
    "    words = []\n",
    "    for l in lines:\n",
    "        l = l.replace(\"\\n\", \"\")\n",
    "        if l == \"\":\n",
    "            continue\n",
    "        splitted = l.split(\" \")\n",
    "        splitted = [s for s in splitted if s != \"\"]\n",
    "        if len(splitted) == 0:\n",
    "            continue\n",
    "\n",
    "        if stemmer is not None:\n",
    "            splitted = [stemmer.stem(s) for s in splitted]\n",
    "\n",
    "        if remove_special:\n",
    "            splitted = [re.sub(r'[^a-zA-Z\\s]', '', s) for s in splitted]\n",
    "\n",
    "        # remove empty strings\n",
    "        splitted = [s for s in splitted if s]\n",
    "        \n",
    "        if to_lower:\n",
    "            splitted = [s.lower() for s in splitted]\n",
    "            \n",
    "        words.extend(splitted)\n",
    "\n",
    "    return words\n",
    "\n",
    "sb_stemmer = SnowballStemmer(\"english\")\n",
    "pt_stemmer = PorterStemmer()\n",
    "words = extract_words_in_dir(\"./dataset/2/Train/74770\")\n",
    "words[:5]"
   ]
  },
  {
   "cell_type": "code",
   "execution_count": 2,
   "id": "602075f2-722e-495e-a0ab-dfbd5fe0da9a",
   "metadata": {},
   "outputs": [
    {
     "data": {
      "text/plain": [
       "(173, 132)"
      ]
     },
     "execution_count": 2,
     "metadata": {},
     "output_type": "execute_result"
    }
   ],
   "source": [
    "len(words), len(set(words))"
   ]
  },
  {
   "cell_type": "markdown",
   "id": "cff94dda-e003-4986-961f-b5c67c62b37c",
   "metadata": {},
   "source": [
    "### Choose the stemmer"
   ]
  },
  {
   "cell_type": "code",
   "execution_count": 3,
   "id": "e218164b-6b0b-4a42-bc6b-f477d39618ab",
   "metadata": {},
   "outputs": [
    {
     "name": "stdout",
     "output_type": "stream",
     "text": [
      "bus bu\n",
      "ns n\n",
      "bus bu\n",
      "dos do\n",
      "this thi\n",
      "high highli\n"
     ]
    }
   ],
   "source": [
    "ws1 = extract_words_in_dir(\"./dataset/2/Train/74770\", stemmer=sb_stemmer)\n",
    "ws2 = extract_words_in_dir(\"./dataset/2/Train/74770\", stemmer=pt_stemmer)\n",
    "for w1, w2 in zip(ws1, ws2):\n",
    "    if w1 != w2:\n",
    "        print(w1, w2)"
   ]
  },
  {
   "cell_type": "markdown",
   "id": "c00cde3b-b942-41a9-abaa-d48e661d8b28",
   "metadata": {},
   "source": [
    "It looks like that the \"SnowballStemmer\" does a better job stemming the words while keeping the semantics, hence we choose it as the default stemmer."
   ]
  },
  {
   "cell_type": "code",
   "execution_count": 4,
   "id": "074dd217-41f8-456f-b87e-8c69ad6742b0",
   "metadata": {},
   "outputs": [
    {
     "name": "stdout",
     "output_type": "stream",
     "text": [
      "from: 2\n",
      "samhalperincccbbsuceng: 2\n",
      "dx: 1\n",
      "mhz: 1\n",
      "in: 2\n"
     ]
    }
   ],
   "source": [
    "def get_num_occurences(words):\n",
    "    w2no = {}\n",
    "    for w in words:\n",
    "        w2no[w] = w2no.get(w, 0) + 1\n",
    "\n",
    "    return w2no\n",
    "    \n",
    "oc = get_num_occurences(words)\n",
    "\n",
    "n = 0\n",
    "for k, v in oc.items():\n",
    "    if n == 5:\n",
    "        break\n",
    "    print(f\"{k}: {v}\")\n",
    "    n += 1"
   ]
  },
  {
   "cell_type": "markdown",
   "id": "739a2fd9-9947-4113-8ddb-6e0290b5a5b8",
   "metadata": {},
   "source": [
    "## Load the training data"
   ]
  },
  {
   "cell_type": "code",
   "execution_count": 5,
   "id": "079f8691-fe0c-47b8-a3db-06ad352d1ecb",
   "metadata": {},
   "outputs": [],
   "source": [
    "from pathlib import Path\n",
    "\n",
    "def load_train(base_dir, stemmer=None):\n",
    "    \"\"\"\n",
    "    load train files and returns `class_to_words` = {\n",
    "        # class \n",
    "        1: {\n",
    "            \"random\": 10, # <word>: <number_of_occurences>\n",
    "            ...\n",
    "        },\n",
    "        ...\n",
    "    }\n",
    "    \"\"\"\n",
    "    class_to_words = {}\n",
    "    for i in range(1, 7):\n",
    "        dir = base_dir.joinpath(f\"{i}/Train/*\")\n",
    "        file_paths = glob(str(dir))\n",
    "        words = []\n",
    "        for p in file_paths:\n",
    "            words.extend(extract_words_in_dir(p, stemmer))\n",
    "\n",
    "        word_with_num_occur = get_num_occurences(words)\n",
    "        \n",
    "        class_to_words[i] = word_with_num_occur\n",
    "            \n",
    "    return class_to_words\n",
    "\n",
    "base_dir = Path(\"./dataset\")\n",
    "c2w = load_train(base_dir, sb_stemmer)"
   ]
  },
  {
   "cell_type": "code",
   "execution_count": 6,
   "id": "d512dd7b-f879-468f-8ebd-dc6106b23a4d",
   "metadata": {},
   "outputs": [
    {
     "data": {
      "text/plain": [
       "dict_keys([1, 2, 3, 4, 5, 6])"
      ]
     },
     "execution_count": 6,
     "metadata": {},
     "output_type": "execute_result"
    }
   ],
   "source": [
    "c2w.keys()"
   ]
  },
  {
   "cell_type": "markdown",
   "id": "f0bf4d88-50a2-42f1-a377-21a38b92050f",
   "metadata": {},
   "source": [
    "## Naive Bayes classifier implementation"
   ]
  },
  {
   "cell_type": "code",
   "execution_count": 7,
   "id": "4a628551-efed-4962-a78a-6dbbff53903d",
   "metadata": {},
   "outputs": [],
   "source": [
    "def nb_classifier(class_to_words, target_text, prior, stemmer=None):\n",
    "    target_words = extract_words(target_text, stemmer=stemmer)\n",
    "    max_prob = 0\n",
    "    target_class = -1 # not yet found\n",
    "    for c, class_words in class_to_words.items():\n",
    "        c_prob = get_class_prob(class_words, target_words, prior)\n",
    "        if c_prob > max_prob:\n",
    "            max_prob = c_prob\n",
    "            target_class = c\n",
    "\n",
    "    return target_class\n",
    "\n",
    "def get_class_prob(class_words, target_words, prior):\n",
    "    # add 1 to number of occurences of each word in order to normalize non-occuring words impact\n",
    "    num_all_class_words = sum([n+1 for _, n in class_words.items()])\n",
    "    prob = prior\n",
    "    for w in target_words:\n",
    "        word_prob = (class_words.get(w, 0) + 1) / num_all_class_words\n",
    "        prob *= word_prob\n",
    "        prob *= 1100 # normalize prob\n",
    "\n",
    "    return prob\n",
    "    "
   ]
  },
  {
   "cell_type": "markdown",
   "id": "05fdf401-aa0e-4193-8118-c4719f2c0579",
   "metadata": {},
   "source": [
    "### Test on a sample text"
   ]
  },
  {
   "cell_type": "code",
   "execution_count": 8,
   "id": "e36b0496-af25-4fac-8828-0b32ac81abf3",
   "metadata": {},
   "outputs": [],
   "source": [
    "target_words = extract_words(\"from past to the future\", sb_stemmer)"
   ]
  },
  {
   "cell_type": "code",
   "execution_count": 9,
   "id": "b50ba3ce-1cda-4b3d-a3c5-7bd542a5e3f8",
   "metadata": {},
   "outputs": [
    {
     "name": "stdout",
     "output_type": "stream",
     "text": [
      "prob for class 1 is: 6.498958437338138\n",
      "prob for class 2 is: 1.938187902787287\n",
      "prob for class 3 is: 5.922138743202018\n",
      "prob for class 4 is: 9.800997404942715\n",
      "prob for class 5 is: 11.148272509488395\n",
      "prob for class 6 is: 5.0438555142304216\n"
     ]
    }
   ],
   "source": [
    "for c in range(1, 7):\n",
    "    s = sorted(c2w[c].items(), key = lambda x: x[1], reverse=True)\n",
    "    p = get_class_prob(c2w[c], target_words, 1/6)\n",
    "    print(f\"prob for class {c} is: {p}\")"
   ]
  },
  {
   "cell_type": "code",
   "execution_count": 10,
   "id": "dd44d29d-75f4-49e2-982e-3acb7db9b08b",
   "metadata": {},
   "outputs": [
    {
     "data": {
      "text/plain": [
       "5"
      ]
     },
     "execution_count": 10,
     "metadata": {},
     "output_type": "execute_result"
    }
   ],
   "source": [
    "target_class = nb_classifier(c2w, \"from past to the future\", 1/6, sb_stemmer)\n",
    "target_class"
   ]
  },
  {
   "cell_type": "markdown",
   "id": "762c0f70-4f84-40ed-805c-47467d82c694",
   "metadata": {},
   "source": [
    "### Evaluate on the training data"
   ]
  },
  {
   "cell_type": "code",
   "execution_count": 11,
   "id": "e5629aa3-bd70-4a63-9e05-842bb6709753",
   "metadata": {},
   "outputs": [],
   "source": [
    "def load_test_for_eval(base_dir):\n",
    "    \"\"\"\n",
    "    returns a class_to_text dictionary\n",
    "    c2t = {\n",
    "        1: [\"...\", \"...\", \"...\"],\n",
    "        2: [\"...\", \"...\", \"...\"],\n",
    "        ...\n",
    "    }\n",
    "    \"\"\"\n",
    "    c2t = {}\n",
    "    for i in range(1, 7):\n",
    "        path = base_dir.joinpath(f\"{i}/Train/*\")\n",
    "        paths = glob(str(path))\n",
    "        c2t[i] = []\n",
    "        for p in paths:\n",
    "            with open(p, \"r\", errors=\"ignore\") as f:\n",
    "                c2t[i].append(f.read())\n",
    "\n",
    "    return c2t\n",
    "\n",
    "c2t_train = load_test_for_eval(base_dir)"
   ]
  },
  {
   "cell_type": "code",
   "execution_count": 12,
   "id": "ad0df4ea-47c4-43d1-8cb3-a7a93b3c36e4",
   "metadata": {},
   "outputs": [],
   "source": [
    "def evaluate(c2w, c2t):\n",
    "    history = {}\n",
    "    for i in range(1, 7):\n",
    "        history[i] = {\"all\": len(c2t[i]), \"correct\": 0}\n",
    "        for t in c2t[i]:\n",
    "            c = nb_classifier(c2w, t, 1/6, stemmer=sb_stemmer)\n",
    "            if c == i:\n",
    "                history[i][\"correct\"] += 1\n",
    "\n",
    "        history[i][\"accuracy\"] = history[i][\"correct\"] / history[i][\"all\"] * 100\n",
    "\n",
    "    return history\n",
    "\n",
    "history_train = evaluate(c2w, c2t_train)"
   ]
  },
  {
   "cell_type": "code",
   "execution_count": 13,
   "id": "2ead665e-8ef5-48e7-b019-da0b24b1ba4a",
   "metadata": {},
   "outputs": [
    {
     "data": {
      "image/png": "[encoded data removed]",
      "text/plain": [
       "<Figure size 640x480 with 1 Axes>"
      ]
     },
     "metadata": {},
     "output_type": "display_data"
    }
   ],
   "source": [
    "import matplotlib.pyplot as plt\n",
    "\n",
    "numbers = list(history_train.keys())\n",
    "accuracies = [entry['accuracy'] for entry in history_train.values()]\n",
    "\n",
    "plt.bar(numbers, accuracies, tick_label=numbers, width=0.5, align='center')\n",
    "plt.xlabel('Class')\n",
    "plt.ylabel('Accuracy (%)')\n",
    "plt.title('Class vs Accuracy')\n",
    "plt.ylim(0, 110)  # Set the y-axis limits\n",
    "plt.grid(axis='y', linestyle='--', alpha=0.7)\n",
    "for i, accuracy in enumerate(accuracies):\n",
    "    plt.text(numbers[i], accuracy + 2, f'{accuracy:.2f}%', ha='center', va='bottom')\n",
    "plt.show()"
   ]
  },
  {
   "cell_type": "markdown",
   "id": "ac53f38e-7af2-40bd-b156-039810461343",
   "metadata": {},
   "source": [
    "## Load test data"
   ]
  },
  {
   "cell_type": "code",
   "execution_count": 14,
   "id": "0e44dc33-54e4-4075-a8fa-02e18fc0a8e0",
   "metadata": {},
   "outputs": [],
   "source": [
    "def load_test(base_dir):\n",
    "    \"\"\"\n",
    "    returns a class_to_text dictionary\n",
    "    c2t = {\n",
    "        1: [\"...\", \"...\", \"...\"],\n",
    "        2: [\"...\", \"...\", \"...\"],\n",
    "        ...\n",
    "    }\n",
    "    \"\"\"\n",
    "    c2t = {}\n",
    "    for i in range(1, 7):\n",
    "        path = base_dir.joinpath(f\"{i}/Test/*\")\n",
    "        paths = glob(str(path))\n",
    "        c2t[i] = []\n",
    "        for p in paths:\n",
    "            with open(p, \"r\") as f:\n",
    "                c2t[i].append(f.read())\n",
    "\n",
    "    return c2t\n",
    "            \n",
    "c2t = load_test(base_dir)"
   ]
  },
  {
   "cell_type": "code",
   "execution_count": 15,
   "id": "2232a938-a4e0-4b6e-803f-6f40dfcc2e90",
   "metadata": {},
   "outputs": [
    {
     "data": {
      "text/plain": [
       "dict_keys([1, 2, 3, 4, 5, 6])"
      ]
     },
     "execution_count": 15,
     "metadata": {},
     "output_type": "execute_result"
    }
   ],
   "source": [
    "c2t.keys()"
   ]
  },
  {
   "cell_type": "markdown",
   "id": "98a2e957-9d2f-470e-a493-1f12a237c81d",
   "metadata": {},
   "source": [
    "## Evaluate on test data"
   ]
  },
  {
   "cell_type": "code",
   "execution_count": 16,
   "id": "5948385a-543c-4336-82d6-fc3c570703d2",
   "metadata": {},
   "outputs": [
    {
     "data": {
      "image/png": "[encoded data removed]",
      "text/plain": [
       "<Figure size 640x480 with 1 Axes>"
      ]
     },
     "metadata": {},
     "output_type": "display_data"
    }
   ],
   "source": [
    "history_test = evaluate(c2w, c2t)\n",
    "\n",
    "numbers = list(history_test.keys())\n",
    "accuracies = [entry['accuracy'] for entry in history_test.values()]\n",
    "\n",
    "plt.bar(numbers, accuracies, tick_label=numbers, width=0.5, align='center')\n",
    "plt.xlabel('Class')\n",
    "plt.ylabel('Accuracy (%)')\n",
    "plt.title('Class vs Accuracy')\n",
    "plt.ylim(0, 110)  # Set the y-axis limits\n",
    "plt.grid(axis='y', linestyle='--', alpha=0.7)\n",
    "for i, accuracy in enumerate(accuracies):\n",
    "    plt.text(numbers[i], accuracy + 2, f'{accuracy:.2f}%', ha='center', va='bottom')\n",
    "plt.show()"
   ]
  },
  {
   "cell_type": "markdown",
   "id": "63fc9dc2-ab0b-484a-b489-a818c92a2169",
   "metadata": {},
   "source": [
    "## Train and Test accuracies side by side"
   ]
  },
  {
   "cell_type": "code",
   "execution_count": 17,
   "id": "2e5a79b6-4706-4f70-af50-f10e551f001d",
   "metadata": {},
   "outputs": [
    {
     "data": {
      "image/png": "[encoded data removed]",
      "text/plain": [
       "<Figure size 640x480 with 1 Axes>"
      ]
     },
     "metadata": {},
     "output_type": "display_data"
    }
   ],
   "source": [
    "import numpy as np\n",
    "\n",
    "numbers = list(history_train.keys())\n",
    "accuracies1 = [entry['accuracy'] for entry in history_train.values()]\n",
    "accuracies2 = [entry['accuracy'] for entry in history_test.values()]\n",
    "\n",
    "bar_width = 0.35\n",
    "index = np.arange(len(numbers))\n",
    "\n",
    "plt.bar(index, accuracies1, bar_width, label='Train', alpha=0.7)\n",
    "plt.bar(index + bar_width, accuracies2, bar_width, label='Test', alpha=0.7)\n",
    "\n",
    "plt.xlabel('Class')\n",
    "plt.ylabel('Accuracy (%)')\n",
    "plt.title('Class vs Accuracy')\n",
    "plt.xticks(index + bar_width / 2, numbers)\n",
    "plt.ylim(0, 110)  # Set the y-axis limits\n",
    "plt.grid(axis='y', linestyle='--', alpha=0.7)\n",
    "plt.legend()\n",
    "\n",
    "plt.show()"
   ]
  },
  {
   "cell_type": "code",
   "execution_count": null,
   "id": "e6acb99d-e672-448d-80cd-47e2cb682fa6",
   "metadata": {},
   "outputs": [],
   "source": []
  }
 ],
 "metadata": {
  "kernelspec": {
   "display_name": "Python 3 (ipykernel)",
   "language": "python",
   "name": "python3"
  },
  "language_info": {
   "codemirror_mode": {
    "name": "ipython",
    "version": 3
   },
   "file_extension": ".py",
   "mimetype": "text/x-python",
   "name": "python",
   "nbconvert_exporter": "python",
   "pygments_lexer": "ipython3",
   "version": "3.11.6"
  }
 },
 "nbformat": 4,
 "nbformat_minor": 5
}
